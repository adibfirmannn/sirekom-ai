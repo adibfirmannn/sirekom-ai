{
 "cells": [
  {
   "cell_type": "markdown",
   "metadata": {},
   "source": [
    "table lomba\n",
    "id, idAdmin, namaLomba, idKategori, deskripsiLomba,\n",
    "tanggalBukaPendaftaran, tanggalTutupPendaftaran, posterLomba, lampiran, created_at, updated_at\n",
    "\n",
    "table kategoris\n",
    "id, jenisKategori, created_at, updated_at\n",
    "\n",
    "table pesertas\n",
    "id, idLomba, idMahasiswa, tanggalDaftar, created_at, update_at"
   ]
  },
  {
   "cell_type": "code",
   "execution_count": 42,
   "metadata": {},
   "outputs": [],
   "source": [
    "import pandas as pd\n",
    "import mysql.connector\n",
    "connection = mysql.connector.connect(\n",
    "        host='localhost',  \n",
    "        database='sirekom_ai',  \n",
    "        user='root',  \n",
    "        password=''  \n",
    "    )"
   ]
  },
  {
   "cell_type": "code",
   "execution_count": 28,
   "metadata": {},
   "outputs": [],
   "source": [
    "df = pd.read_csv('kategoris.csv')\n",
    "def insert_data_kategoris(row):\n",
    "    cursor = connection.cursor()\n",
    "    query = \"INSERT INTO kategoris (id, jenisKategori, created_at, updated_at) VALUES (%s, %s, %s, %s)\"\n",
    "    values = ( row['id'], row['jenisKategori'], row['created_at'], row['updated_at'])\n",
    "    cursor.execute(query, values)\n",
    "    connection.commit()\n",
    "    cursor.close()\n",
    "\n",
    "df.apply(insert_data_kategoris, axis=1)\n",
    "\n",
    "connection.close()"
   ]
  },
  {
   "cell_type": "code",
   "execution_count": 37,
   "metadata": {},
   "outputs": [],
   "source": [
    "dfl = pd.read_csv('lombas.csv')\n",
    "def insert_data(row):\n",
    "    cursor = connection.cursor()\n",
    "    query = \"INSERT INTO lombas (id, idAdmin, namaLomba, idKategori, deskripsiLomba, tanggalBukaPendaftaran, tanggalTutupPendaftaran, posterLomba, lampiran, created_at, updated_at) VALUES (%s, %s, %s, %s, %s, %s, %s, %s, %s, %s, %s)\"\n",
    "    values = (\n",
    "        row['id'],\n",
    "        row['idAdmin'],\n",
    "        row['namaLomba'],\n",
    "        row['idKategori'],\n",
    "        row['deskripsiLomba'],\n",
    "        row['tanggalBukaPendaftaran'],\n",
    "        row['tanggalTutupPendaftaran'],\n",
    "        row['posterLomba'],  \n",
    "        row['lampiran'],\n",
    "        row['created_at'],\n",
    "        row['updated_at']\n",
    "    )\n",
    "    cursor.execute(query, values)\n",
    "    connection.commit()\n",
    "    cursor.close()\n",
    "\n",
    "\n",
    "dfl.apply(insert_data, axis=1)\n",
    "\n",
    "\n",
    "connection.close()"
   ]
  },
  {
   "cell_type": "code",
   "execution_count": 43,
   "metadata": {},
   "outputs": [],
   "source": [
    "dfp = pd.read_csv('pesertas.csv')\n",
    "def insert_data_pesertas(row):\n",
    "    cursor = connection.cursor()\n",
    "    query = \"INSERT INTO pesertas (id, idLomba, idMahasiswa, tanggalDaftar, created_at, updated_at) VALUES (%s, %s,%s, %s, %s, %s)\"\n",
    "    values = (\n",
    "        row['id'],\n",
    "        row['idLomba'],\n",
    "        row['idMahasiswa'],\n",
    "        row['tanggalDaftar'],\n",
    "        row['created_at'],\n",
    "        row['updated_at'],\n",
    "    )\n",
    "    cursor.execute(query, values)\n",
    "    connection.commit()\n",
    "    cursor.close()\n",
    "\n",
    "\n",
    "dfp.apply(insert_data_pesertas, axis=1)\n",
    "\n",
    "connection.close()"
   ]
  }
 ],
 "metadata": {
  "kernelspec": {
   "display_name": "film",
   "language": "python",
   "name": "python3"
  },
  "language_info": {
   "codemirror_mode": {
    "name": "ipython",
    "version": 3
   },
   "file_extension": ".py",
   "mimetype": "text/x-python",
   "name": "python",
   "nbconvert_exporter": "python",
   "pygments_lexer": "ipython3",
   "version": "3.10.14"
  }
 },
 "nbformat": 4,
 "nbformat_minor": 2
}
