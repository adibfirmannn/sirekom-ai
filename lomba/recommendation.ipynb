{
 "cells": [
  {
   "cell_type": "markdown",
   "metadata": {},
   "source": [
    "TOP LOMBA "
   ]
  },
  {
   "cell_type": "code",
   "execution_count": 53,
   "metadata": {},
   "outputs": [
    {
     "name": "stdout",
     "output_type": "stream",
     "text": [
      " id                        namaLomba\n",
      "  8                      Ranked Comp\n",
      " 10 Kontes Robot Bawah Air Indonesia\n",
      "  5                           Gamify\n",
      "  2                         Gemastik\n",
      "  7                    Ksatria Compe\n"
     ]
    },
    {
     "name": "stderr",
     "output_type": "stream",
     "text": [
      "C:\\Users\\ADIB FIRMANSYAH\\AppData\\Local\\Temp\\ipykernel_19172\\2953457661.py:15: FutureWarning: A value is trying to be set on a copy of a DataFrame or Series through chained assignment using an inplace method.\n",
      "The behavior will change in pandas 3.0. This inplace method will never work because the intermediate object on which we are setting values always behaves as a copy.\n",
      "\n",
      "For example, when doing 'df[col].method(value, inplace=True)', try using 'df.method({col: value}, inplace=True)' or df[col] = df[col].method(value) instead, to perform the operation inplace on the original object.\n",
      "\n",
      "\n",
      "  lombas_df['participant_count'].fillna(0, inplace=True)\n"
     ]
    }
   ],
   "source": [
    "import pandas as pd\n",
    "\n",
    "# Membaca data dari file CSV\n",
    "lombas_df = pd.read_csv('lombas.csv')\n",
    "kategoris_df = pd.read_csv('kategoris.csv')\n",
    "pesertas_df = pd.read_csv('pesertas.csv')\n",
    "\n",
    "# Menghitung jumlah peserta per lomba\n",
    "lomba_participants = pesertas_df.groupby('idLomba').size().reset_index(name='participant_count')\n",
    "\n",
    "# Menggabungkan data lomba dengan jumlah peserta\n",
    "lombas_df = lombas_df.merge(lomba_participants, left_on='id', right_on='idLomba', how='left')\n",
    "\n",
    "# Mengganti nilai NaN dengan 0 (jika ada lomba tanpa peserta)\n",
    "lombas_df['participant_count'].fillna(0, inplace=True)\n",
    "\n",
    "# Mengurutkan lomba berdasarkan jumlah peserta (dari yang terbanyak)\n",
    "lombas_df = lombas_df.sort_values(by='participant_count', ascending=False)\n",
    "\n",
    "# Mengambil kolom yang relevan untuk rekomendasi\n",
    "recommended_lombas = lombas_df[['id','namaLomba']]\n",
    "\n",
    "# Menampilkan id 5 lomba yang paling banyak diikuti\n",
    "top_5_lombas_id = recommended_lombas.head(5)\n",
    "print(top_5_lombas_id.to_string(index=False))\n"
   ]
  },
  {
   "cell_type": "markdown",
   "metadata": {},
   "source": [
    "Similiar berdasarkan deskripsi"
   ]
  },
  {
   "cell_type": "code",
   "execution_count": 55,
   "metadata": {},
   "outputs": [
    {
     "name": "stdout",
     "output_type": "stream",
     "text": [
      "Rekomendasi 5 Lomba Berdasarkan Lomba Tertentu:\n",
      "14           Hackathon\n",
      "15    Capture The Flag\n",
      "21              SeFest\n",
      "3             Dicoding\n",
      "18         Satria Data\n",
      "Name: namaLomba, dtype: object\n"
     ]
    }
   ],
   "source": [
    "import pandas as pd\n",
    "from sklearn.feature_extraction.text import TfidfVectorizer\n",
    "from sklearn.metrics.pairwise import linear_kernel\n",
    "\n",
    "# Membaca data dari file CSV\n",
    "lombas_df = pd.read_csv('lombas.csv')\n",
    "\n",
    "# Define a TF-IDF Vectorizer Object. Remove all english stop words such as 'the', 'a'\n",
    "tfidf = TfidfVectorizer(stop_words='english')\n",
    "\n",
    "# Replace NaN with an empty string\n",
    "lombas_df['deskripsiLomba'] = lombas_df['deskripsiLomba'].fillna('')\n",
    "\n",
    "# Construct the required TF-IDF matrix by fitting and transforming the data\n",
    "tfidf_matrix = tfidf.fit_transform(lombas_df['deskripsiLomba'])\n",
    "\n",
    "# Compute the cosine similarity matrix\n",
    "cosine_sim = linear_kernel(tfidf_matrix, tfidf_matrix)\n",
    "\n",
    "# Construct a reverse map of indices and lomba titles\n",
    "indices = pd.Series(lombas_df.index, index=lombas_df['namaLomba']).drop_duplicates()\n",
    "\n",
    "# Function that takes in lomba name as input and outputs 5 most similar lombas\n",
    "def get_recommendations_lomba(nama_lomba, cosine_sim=cosine_sim):\n",
    "    # Get the index of the lomba that matches the name\n",
    "    idx = indices[nama_lomba]\n",
    "\n",
    "    # Get the pairwise similarity scores of all lombas with that lomba\n",
    "    sim_scores = list(enumerate(cosine_sim[idx]))\n",
    "\n",
    "    # Sort the lombas based on the similarity scores\n",
    "    sim_scores = sorted(sim_scores, key=lambda x: x[1], reverse=True)\n",
    "\n",
    "    # Get the indices of the top 5 most similar lombas\n",
    "    lomba_indices = [i[0] for i in sim_scores[1:6]]  # Mengambil 5 lomba teratas\n",
    "\n",
    "    # Return the top 5 most similar lombas\n",
    "    return lombas_df['namaLomba'].iloc[lomba_indices]\n",
    "\n",
    "# Contoh penggunaan: merekomendasikan 5 lomba berdasarkan lomba dengan nama tertentu\n",
    "recommended_lombas = get_recommendations_lomba('Gemastik')\n",
    "print(\"Rekomendasi 5 Lomba Berdasarkan Lomba Tertentu:\")\n",
    "print(recommended_lombas)\n"
   ]
  },
  {
   "cell_type": "markdown",
   "metadata": {},
   "source": [
    "Similiar berdasarkan kategori"
   ]
  },
  {
   "cell_type": "code",
   "execution_count": 49,
   "metadata": {},
   "outputs": [
    {
     "name": "stdout",
     "output_type": "stream",
     "text": [
      "Rekomendasi 5 Lomba dalam Kategori yang Sama:\n",
      " id      namaLomba\n",
      "  1 Figma Designer\n",
      "  2       Gemastik\n"
     ]
    }
   ],
   "source": [
    "import pandas as pd\n",
    "\n",
    "# Membaca data dari file CSV\n",
    "lombas_df = pd.read_csv('lombas.csv')\n",
    "\n",
    "# Function that takes in category ID as input and outputs 5 most similar lombas within the same category\n",
    "def get_recommendations_by_category(id_kategori):\n",
    "    # Filter lombas by category\n",
    "    lombas_in_category = lombas_df[lombas_df['idKategori'] == id_kategori]\n",
    "\n",
    "    # Get the top 5 lombas in the same category\n",
    "    top_lombas = lombas_in_category.head(5)\n",
    "\n",
    "    # Select only idLomba and namaLomba columns\n",
    "    top_lombas = top_lombas[['id', 'namaLomba']]\n",
    "\n",
    "    return top_lombas\n",
    "\n",
    "# Contoh penggunaan: merekomendasikan 5 lomba dalam kategori dengan ID 1\n",
    "recommended_lombas = get_recommendations_by_category(1)\n",
    "print(\"Rekomendasi 5 Lomba dalam Kategori yang Sama:\")\n",
    "print(recommended_lombas.to_string(index=False))\n",
    "\n"
   ]
  }
 ],
 "metadata": {
  "kernelspec": {
   "display_name": "film",
   "language": "python",
   "name": "python3"
  },
  "language_info": {
   "codemirror_mode": {
    "name": "ipython",
    "version": 3
   },
   "file_extension": ".py",
   "mimetype": "text/x-python",
   "name": "python",
   "nbconvert_exporter": "python",
   "pygments_lexer": "ipython3",
   "version": "3.10.14"
  }
 },
 "nbformat": 4,
 "nbformat_minor": 2
}
